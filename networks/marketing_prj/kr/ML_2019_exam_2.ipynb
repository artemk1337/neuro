{
 "cells": [
  {
   "cell_type": "markdown",
   "metadata": {},
   "source": [
    "# Место для вашего имени и номера группы\n",
    "Клик-клик"
   ]
  },
  {
   "cell_type": "markdown",
   "metadata": {},
   "source": [
    "# Экзамен\n",
    "\n",
    "Привет, с вами Экзамен! \n",
    "\n",
    "- Списываешь => получаешь ноль за экзамен\n",
    "- Заходишь в социальную сетку или месенджер => получаешь ноль за экзамен\n",
    "- Не решил ни одного задания => получаешь ноль за экзамен\n",
    "- Пишешь в заданиях дич и копипастишь бесполезный код => получаешь штраф\n",
    "- Не работающий код => получаешь ноль за экзамен\n",
    "\n",
    "Можно: \n",
    "\n",
    "- Пользоваться поисковиком\n",
    "- Читать документацию к пакетам \n",
    "- Заходить на страничку курса \n",
    "\n",
    "Удачи! Либо мы с тобой больше никогда не увидимся, либо увидимся осенью! Новые встречи со старыми знакомыми - это прекрасно :) \n",
    "\n",
    "## Оценка\n",
    "За каждую задачу можно получить 10 баллов. Итого за экзамен - 20. Оценки переводятся в 10-балльную шкалу пропорционально. "
   ]
  },
  {
   "cell_type": "markdown",
   "metadata": {},
   "source": [
    "## Задание 1\n",
    "\n",
    "Перед вами набор данных по видеоиграм, которые были проданы тиражом более $100 000$ копий. \n",
    "\n",
    "* `Rank` - порядковый номер игры (техническая переменная, её нужно удалить)\n",
    "* `Name` - название игры \n",
    "* `Platform` - платформа для релиза (PC, PS4 и тп) \n",
    "* `Year` - год выпуска игры \n",
    "* `Genre` - жанр игры \n",
    "* `Publisher` - компания-автор игры \n",
    "* `NA_Sales` - продажи в Северной Америке \n",
    "* `EU_Sales` - продажи в Европе \n",
    "* `JP_Sales` - продажи в Японии \n",
    "* `Other_Sales` - другие продажи \n",
    "* `Global_Sales` - общемировые продажи\n",
    "\n",
    "Ваша задача спрогнозировать общемировые продажи видео-игр. \n",
    "\n",
    "\n",
    "* Сделайте предобработку данных. Всё, что сочтёте нуэным. Постарайтесь использовать только тот код, который вам правда нужен. Лишний код, который ничего не делает - зло. \n",
    "* Оцените линейную регрессию, подберите силу регуляризации по решётке. Каким получилось итоговое качество модели? \n",
    "* Выясните какие факторы оказывают наиболее сильное влияние на спрос. \n",
    "\n",
    "\n",
    "__Обратите внимание, что__ вы не можете прогнозировать продажи игры в мире по её продажам в северной америке, так как это линейно зависимые переменные. При этом вы можете прогнозировать её продажи в мире по тому, сколько в Северной америке было продано игр за прошлый период. Не ошибайтесь здесь!"
   ]
  },
  {
   "cell_type": "code",
   "execution_count": 9,
   "metadata": {},
   "outputs": [
    {
     "data": {
      "text/html": [
       "<div>\n",
       "<style scoped>\n",
       "    .dataframe tbody tr th:only-of-type {\n",
       "        vertical-align: middle;\n",
       "    }\n",
       "\n",
       "    .dataframe tbody tr th {\n",
       "        vertical-align: top;\n",
       "    }\n",
       "\n",
       "    .dataframe thead th {\n",
       "        text-align: right;\n",
       "    }\n",
       "</style>\n",
       "<table border=\"1\" class=\"dataframe\">\n",
       "  <thead>\n",
       "    <tr style=\"text-align: right;\">\n",
       "      <th></th>\n",
       "      <th>Rank</th>\n",
       "      <th>Name</th>\n",
       "      <th>Platform</th>\n",
       "      <th>Year</th>\n",
       "      <th>Genre</th>\n",
       "      <th>Publisher</th>\n",
       "      <th>NA_Sales</th>\n",
       "      <th>EU_Sales</th>\n",
       "      <th>JP_Sales</th>\n",
       "      <th>Other_Sales</th>\n",
       "      <th>Global_Sales</th>\n",
       "    </tr>\n",
       "  </thead>\n",
       "  <tbody>\n",
       "    <tr>\n",
       "      <th>0</th>\n",
       "      <td>1</td>\n",
       "      <td>Wii Sports</td>\n",
       "      <td>Wii</td>\n",
       "      <td>2006.0</td>\n",
       "      <td>Sports</td>\n",
       "      <td>Nintendo</td>\n",
       "      <td>41.49</td>\n",
       "      <td>29.02</td>\n",
       "      <td>3.77</td>\n",
       "      <td>8.46</td>\n",
       "      <td>82.74</td>\n",
       "    </tr>\n",
       "    <tr>\n",
       "      <th>1</th>\n",
       "      <td>2</td>\n",
       "      <td>Super Mario Bros.</td>\n",
       "      <td>NES</td>\n",
       "      <td>1985.0</td>\n",
       "      <td>Platform</td>\n",
       "      <td>Nintendo</td>\n",
       "      <td>29.08</td>\n",
       "      <td>3.58</td>\n",
       "      <td>6.81</td>\n",
       "      <td>0.77</td>\n",
       "      <td>40.24</td>\n",
       "    </tr>\n",
       "    <tr>\n",
       "      <th>2</th>\n",
       "      <td>3</td>\n",
       "      <td>Mario Kart Wii</td>\n",
       "      <td>Wii</td>\n",
       "      <td>2008.0</td>\n",
       "      <td>Racing</td>\n",
       "      <td>Nintendo</td>\n",
       "      <td>15.85</td>\n",
       "      <td>12.88</td>\n",
       "      <td>3.79</td>\n",
       "      <td>3.31</td>\n",
       "      <td>35.82</td>\n",
       "    </tr>\n",
       "    <tr>\n",
       "      <th>3</th>\n",
       "      <td>4</td>\n",
       "      <td>Wii Sports Resort</td>\n",
       "      <td>Wii</td>\n",
       "      <td>2009.0</td>\n",
       "      <td>Sports</td>\n",
       "      <td>Nintendo</td>\n",
       "      <td>15.75</td>\n",
       "      <td>11.01</td>\n",
       "      <td>3.28</td>\n",
       "      <td>2.96</td>\n",
       "      <td>33.00</td>\n",
       "    </tr>\n",
       "    <tr>\n",
       "      <th>4</th>\n",
       "      <td>5</td>\n",
       "      <td>Pokemon Red/Pokemon Blue</td>\n",
       "      <td>GB</td>\n",
       "      <td>1996.0</td>\n",
       "      <td>Role-Playing</td>\n",
       "      <td>Nintendo</td>\n",
       "      <td>11.27</td>\n",
       "      <td>8.89</td>\n",
       "      <td>10.22</td>\n",
       "      <td>1.00</td>\n",
       "      <td>31.37</td>\n",
       "    </tr>\n",
       "  </tbody>\n",
       "</table>\n",
       "</div>"
      ],
      "text/plain": [
       "   Rank                      Name Platform    Year         Genre Publisher  \\\n",
       "0     1                Wii Sports      Wii  2006.0        Sports  Nintendo   \n",
       "1     2         Super Mario Bros.      NES  1985.0      Platform  Nintendo   \n",
       "2     3            Mario Kart Wii      Wii  2008.0        Racing  Nintendo   \n",
       "3     4         Wii Sports Resort      Wii  2009.0        Sports  Nintendo   \n",
       "4     5  Pokemon Red/Pokemon Blue       GB  1996.0  Role-Playing  Nintendo   \n",
       "\n",
       "   NA_Sales  EU_Sales  JP_Sales  Other_Sales  Global_Sales  \n",
       "0     41.49     29.02      3.77         8.46         82.74  \n",
       "1     29.08      3.58      6.81         0.77         40.24  \n",
       "2     15.85     12.88      3.79         3.31         35.82  \n",
       "3     15.75     11.01      3.28         2.96         33.00  \n",
       "4     11.27      8.89     10.22         1.00         31.37  "
      ]
     },
     "execution_count": 9,
     "metadata": {},
     "output_type": "execute_result"
    }
   ],
   "source": [
    "import pandas as pd \n",
    "df = pd.read_csv('vgsales.csv')\n",
    "df.head()"
   ]
  },
  {
   "cell_type": "code",
   "execution_count": 10,
   "metadata": {
    "scrolled": true
   },
   "outputs": [
    {
     "data": {
      "text/plain": [
       "Rank              0\n",
       "Name              0\n",
       "Platform          0\n",
       "Year            271\n",
       "Genre             0\n",
       "Publisher        58\n",
       "NA_Sales          0\n",
       "EU_Sales          0\n",
       "JP_Sales          0\n",
       "Other_Sales       0\n",
       "Global_Sales      0\n",
       "dtype: int64"
      ]
     },
     "execution_count": 10,
     "metadata": {},
     "output_type": "execute_result"
    }
   ],
   "source": [
    "df.isnull().sum()"
   ]
  },
  {
   "cell_type": "markdown",
   "metadata": {},
   "source": [
    "## Задание 2\n",
    "\n",
    "В этом задании вы работаете в файлом kc_house_data.csv. \n",
    "Прежде чем приступить к работе, убедитесь, что нужные библиотеки и сам файл подгружен.\n",
    "\n",
    "Для решения этой задачи вам понадобятся:\n",
    "- 1 библиотека\n",
    "- 1 функция\n",
    "- 8 методов\n",
    "- 0 циклов\n",
    "\n",
    "А вот что вам нужно сделать: \n",
    "\n",
    "- [1] Распечатайте первые 5 строк датафрейма\n",
    "- [2] Проверьте, есть ли пропуски в датафрейме. Успешным ответом на этот пункт будет таблица из двух колонок: в первой записаны названия колонок таблицы, во второй - количество пропусков. \n",
    "- [3] Рассчитайте среднюю стоимоть дома в зависимости от года постройки.\n",
    "- [1] Нарисуйте график средней стоимости дома в зависимости от года постройки\n",
    "- [2] Сколько спален в домах? Выведите таблицу, в которой есть информация сколько домов с Х спальнями (Х - всевозможные количества спален в датасете)\n",
    "- [1] Визуализируйте таблицу из предыдущего пункта в виде бар-плота. Важно: на графике колчиество спален по горизонтальной оси должно быть отсортировано по возрастанию. "
   ]
  }
 ],
 "metadata": {
  "kernelspec": {
   "display_name": "Python 3",
   "language": "python",
   "name": "python3"
  },
  "language_info": {
   "codemirror_mode": {
    "name": "ipython",
    "version": 3
   },
   "file_extension": ".py",
   "mimetype": "text/x-python",
   "name": "python",
   "nbconvert_exporter": "python",
   "pygments_lexer": "ipython3",
   "version": "3.7.1"
  }
 },
 "nbformat": 4,
 "nbformat_minor": 2
}
