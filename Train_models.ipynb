{
  "nbformat": 4,
  "nbformat_minor": 0,
  "metadata": {
    "colab": {
      "name": "Train_models.ipynb",
      "provenance": [],
      "collapsed_sections": [
        "gF-Xk659CAtI",
        "QfFYjE8-BLTC",
        "feXIrZ4uefYn",
        "L1Ymn3b5h_1O",
        "QBl1M-7VhrO4"
      ],
      "machine_shape": "hm",
      "authorship_tag": "ABX9TyPnBVSBDQ5rGZcuLpiUQPSV",
      "include_colab_link": true
    },
    "kernelspec": {
      "name": "python3",
      "display_name": "Python 3"
    }
  },
  "cells": [
    {
      "cell_type": "markdown",
      "metadata": {
        "id": "view-in-github",
        "colab_type": "text"
      },
      "source": [
        "<a href=\"https://colab.research.google.com/github/artemkush1/neuro/blob/master/Train_models.ipynb\" target=\"_parent\"><img src=\"https://colab.research.google.com/assets/colab-badge.svg\" alt=\"Open In Colab\"/></a>"
      ]
    },
    {
      "cell_type": "code",
      "metadata": {
        "id": "oMNCiZz0G5-v",
        "colab_type": "code",
        "outputId": "69832392-eab6-4dfa-9fd7-8fac050d7002",
        "colab": {
          "base_uri": "https://localhost:8080/",
          "height": 100
        }
      },
      "source": [
        "from google.colab import drive\n",
        "drive.mount('/content/drive')\n",
        "\n",
        "!pip install pymorphy2\n",
        "\n",
        "import pandas as pd\n",
        "import numpy as np\n",
        "from numpy import isnan\n",
        "import datetime\n",
        "import matplotlib.pyplot as plt\n",
        "import seaborn as sns\n",
        "import pymorphy2\n",
        "\n",
        "from sklearn.feature_extraction.text import CountVectorizer\n",
        "from sklearn import preprocessing\n",
        "from sklearn.model_selection import train_test_split\n",
        "\n",
        "from sklearn.ensemble import *\n",
        "from sklearn.linear_model import *\n",
        "from sklearn.model_selection import *\n",
        "from sklearn.metrics import mean_squared_error, mean_absolute_error\n",
        "import pickle as cPickle\n",
        "\n",
        "def mape(y_true, y_pred): \n",
        "    y_true, y_pred = np.array(y_true), np.array(y_pred)\n",
        "    y_true[y_true == 0] = 0.0001\n",
        "    return np.mean(np.abs((y_true - y_pred) / y_true)) * 100"
      ],
      "execution_count": 0,
      "outputs": [
        {
          "output_type": "stream",
          "text": [
            "Drive already mounted at /content/drive; to attempt to forcibly remount, call drive.mount(\"/content/drive\", force_remount=True).\n",
            "Requirement already satisfied: pymorphy2 in /usr/local/lib/python3.6/dist-packages (0.8)\n",
            "Requirement already satisfied: docopt>=0.6 in /usr/local/lib/python3.6/dist-packages (from pymorphy2) (0.6.2)\n",
            "Requirement already satisfied: pymorphy2-dicts<3.0,>=2.4 in /usr/local/lib/python3.6/dist-packages (from pymorphy2) (2.4.393442.3710985)\n",
            "Requirement already satisfied: dawg-python>=0.7 in /usr/local/lib/python3.6/dist-packages (from pymorphy2) (0.7.2)\n"
          ],
          "name": "stdout"
        }
      ]
    },
    {
      "cell_type": "markdown",
      "metadata": {
        "id": "gF-Xk659CAtI",
        "colab_type": "text"
      },
      "source": [
        "# Load data"
      ]
    },
    {
      "cell_type": "code",
      "metadata": {
        "id": "Hw8wS73afT44",
        "colab_type": "code",
        "colab": {}
      },
      "source": [
        "data = pd.read_csv(\"/content/drive/My Drive/Colab Notebooks/bank_hack/preproc_train.csv\", comment=\"#\")\n",
        "\n",
        "Y = data['sum_cltv']\n",
        "data = data.drop(['sum_cltv'], axis=1)\n",
        "data = data.drop(['mean_month_cltv'], axis=1)\n",
        "data['sum_cltv'] = Y\n",
        "data = data.values"
      ],
      "execution_count": 0,
      "outputs": []
    },
    {
      "cell_type": "markdown",
      "metadata": {
        "id": "QfFYjE8-BLTC",
        "colab_type": "text"
      },
      "source": [
        "# Show heatmap"
      ]
    },
    {
      "cell_type": "code",
      "metadata": {
        "id": "VkPipeOcGb_t",
        "colab_type": "code",
        "colab": {}
      },
      "source": [
        "def show_map(df_te_train):\n",
        "  data1 = df_te_train.copy()\n",
        "  corrmat = data1.corr()\n",
        "  top_corr_features = corrmat.index\n",
        "  plt.figure(figsize=(25,25))\n",
        "  #plot heat map\n",
        "  #print(data1[top_corr_features].shape)\n",
        "  g=sns.heatmap(data1[top_corr_features].corr().abs(),annot=True,cmap=\"RdYlGn\")\n",
        "\n",
        "\n",
        "show_map(data)\n"
      ],
      "execution_count": 0,
      "outputs": []
    },
    {
      "cell_type": "markdown",
      "metadata": {
        "id": "feXIrZ4uefYn",
        "colab_type": "text"
      },
      "source": [
        "# Train_test_split"
      ]
    },
    {
      "cell_type": "code",
      "metadata": {
        "id": "NP1wL2LGkqtK",
        "colab_type": "code",
        "outputId": "910b7d05-4010-4b62-b20b-6686cb56a767",
        "colab": {
          "base_uri": "https://localhost:8080/"
        }
      },
      "source": [
        "X, x_, Y, y_ = train_test_split(data[:, :-1], data[:, -1], shuffle=True, test_size=0.2)\n",
        "print(X.shape)\n",
        "print(Y.shape)"
      ],
      "execution_count": 0,
      "outputs": [
        {
          "output_type": "stream",
          "text": [
            "(239752, 148)\n",
            "(239752,)\n"
          ],
          "name": "stdout"
        }
      ]
    },
    {
      "cell_type": "markdown",
      "metadata": {
        "id": "OrwtF89heqNf",
        "colab_type": "text"
      },
      "source": [
        "# ***Models***"
      ]
    },
    {
      "cell_type": "markdown",
      "metadata": {
        "id": "L1Ymn3b5h_1O",
        "colab_type": "text"
      },
      "source": [
        "# GradientBoostingRegressor"
      ]
    },
    {
      "cell_type": "markdown",
      "metadata": {
        "id": "djA81IpxAvCs",
        "colab_type": "text"
      },
      "source": [
        "*Test only one model*"
      ]
    },
    {
      "cell_type": "code",
      "metadata": {
        "id": "pM60q89HeUyI",
        "colab_type": "code",
        "outputId": "f25b9106-675e-4ee3-933b-458da71a9649",
        "colab": {
          "base_uri": "https://localhost:8080/"
        }
      },
      "source": [
        "gbr = GradientBoostingRegressor(n_estimators=150, max_depth=7)\n",
        "gbr.fit(X, Y)\n",
        "print(mean_absolute_error(Y, gbr.predict(X)))\n",
        "print(mean_absolute_error(y_, gbr.predict(x_)))\n",
        "print(mape(Y, gbr.predict(X)))\n",
        "print(mape(y_, gbr.predict(x_)))\n",
        "\n",
        "\n",
        "# save the classifier\n",
        "with open('/content/drive/My Drive/Colab Notebooks/bank_hack/my_regres.pkl', 'wb') as fid:\n",
        "    cPickle.dump(gbr, fid)"
      ],
      "execution_count": 0,
      "outputs": [
        {
          "output_type": "stream",
          "text": [
            "0.9312879907049695\n",
            "1.2543248268716503\n",
            "6587818618434940.0\n",
            "2502.637578072109\n"
          ],
          "name": "stdout"
        }
      ]
    },
    {
      "cell_type": "markdown",
      "metadata": {
        "id": "9GCxRuzmA8KN",
        "colab_type": "text"
      },
      "source": [
        "*Test all models*"
      ]
    },
    {
      "cell_type": "code",
      "metadata": {
        "id": "VfT7cKb0dgDq",
        "colab_type": "code",
        "colab": {}
      },
      "source": [
        "kf = KFold(n_splits=10, shuffle=True)\n",
        "gbrs = []\n",
        "final = 0\n",
        "pred = 0\n",
        "i = 0\n",
        "\n",
        "for train_index, test_index in kf.split(X):\n",
        "  X_train, X_test = X[train_index], X[test_index]\n",
        "  y_train, y_test = Y[train_index], Y[test_index]\n",
        "  gbr = GradientBoostingRegressor(n_estimators=150, max_depth=7)\n",
        "  gbr.fit(X_train, y_train)\n",
        "  final += mean_absolute_error(y_test, gbr.predict(X_test))\n",
        "  i += 1\n",
        "  pred += mape(y_, gbr.predict(x_))\n",
        "  print(\"curr score:\", final / i, \"curr pred score:\", pred / i)\n",
        "  with open(f'/content/drive/My Drive/Colab Notebooks/bank_hack/my_regres_{i}.pkl', 'wb') as fid:\n",
        "    cPickle.dump(gbr, fid)  \n",
        "\n",
        "\n",
        "print(\"final score:\\n\", final / i)"
      ],
      "execution_count": 0,
      "outputs": []
    },
    {
      "cell_type": "markdown",
      "metadata": {
        "id": "QBl1M-7VhrO4",
        "colab_type": "text"
      },
      "source": [
        "# LinearRegression"
      ]
    },
    {
      "cell_type": "code",
      "metadata": {
        "id": "Wuz6FvD_k2l2",
        "colab_type": "code",
        "outputId": "18150d23-1f8d-4548-bd32-8b3ee97f186e",
        "colab": {
          "base_uri": "https://localhost:8080/"
        }
      },
      "source": [
        "kf = KFold(n_splits=10, shuffle=True)\n",
        "gbrs = []\n",
        "final = 0\n",
        "pred = 0\n",
        "i = 0\n",
        "\n",
        "for train_index, test_index in kf.split(X):\n",
        "  X_train, X_test = X[train_index], X[test_index]\n",
        "  y_train, y_test = Y[train_index], Y[test_index]\n",
        "  gbr = LinearRegression()\n",
        "  gbr.fit(X_train, y_train)\n",
        "  final += mean_absolute_error(y_test, gbr.predict(X_test))\n",
        "  i += 1\n",
        "  pred += mape(y_, gbr.predict(x_))  # mean_absolute_error(y_, gbr.predict(x_))\n",
        "  print(\"curr score:\", final / i, \"curr pred score:\", pred / i)\n",
        "  with open(f'/content/drive/My Drive/Colab Notebooks/bank_hack/my_regres_{i + 10}.pkl', 'wb') as fid:\n",
        "    cPickle.dump(gbr, fid)  \n",
        "\n",
        "\n",
        "print(\"final score:\\n\", final / i)"
      ],
      "execution_count": 0,
      "outputs": [
        {
          "output_type": "stream",
          "text": [
            "curr score: 0.8490737805503066 curr pred score: 9529.29421624776\n",
            "curr score: 0.8418087024696094 curr pred score: 9569.10916624418\n",
            "curr score: 0.8450653299682264 curr pred score: 9845.251008401387\n",
            "curr score: 0.8363663811541875 curr pred score: 9797.753469586116\n",
            "curr score: 0.8327608110228599 curr pred score: 9663.494291919718\n",
            "curr score: 0.8303776672175425 curr pred score: 9526.989719920275\n",
            "curr score: 0.8295866575843897 curr pred score: 9579.064016894748\n",
            "curr score: 0.8280660108666209 curr pred score: 9459.849013356716\n",
            "curr score: 0.8275105185010542 curr pred score: 9452.698158565086\n",
            "curr score: 0.8265895040619714 curr pred score: 9429.141365634132\n",
            "final score:\n",
            " 0.8265895040619714\n"
          ],
          "name": "stdout"
        }
      ]
    },
    {
      "cell_type": "code",
      "metadata": {
        "id": "u1X5A9kqh--6",
        "colab_type": "code",
        "colab": {}
      },
      "source": [
        ""
      ],
      "execution_count": 0,
      "outputs": []
    }
  ]
}